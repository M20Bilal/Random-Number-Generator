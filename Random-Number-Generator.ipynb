{
 "cells": [
  {
   "cell_type": "code",
   "execution_count": 2,
   "id": "cc32201b",
   "metadata": {},
   "outputs": [],
   "source": [
    "import pandas as pd\n",
    "import numpy as np\n",
    "import random as rd\n",
    "import phonenumbers\n",
    "from phonenumbers import carrier, geocoder, timezone"
   ]
  },
  {
   "cell_type": "code",
   "execution_count": 8,
   "id": "83758fc3",
   "metadata": {},
   "outputs": [],
   "source": [
    "random_numbers = [rd.randint(1000000,9999999) for _ in range(101)]\n",
    "concatenated_numbers = [\"+1\" + '508-' + str(num) for num in random_numbers]\n",
    "concatenated_numbers_1 = [\"+1\" + '905-' +str(num) for num in random_numbers]\n",
    "concatenated_numbers_2 =  [\"+1\" + '604-' +str(num) for num in random_numbers]\n",
    "concatenated_numbers_3 = [\"+1\" + '438-' +str(num) for num in random_numbers]\n",
    "concatenated_numbers_4 = [\"+92 \" + '519-' +str(num) for num in random_numbers]\n",
    "df = pd.DataFrame({\n",
    "    \"1\":concatenated_numbers,\n",
    "    \"2\":concatenated_numbers_1,\n",
    "    \"3\":concatenated_numbers_2,\n",
    "    \"4\":concatenated_numbers_3,\n",
    "    \"5\":concatenated_numbers_4\n",
    "})\n",
    "df.to_excel('Real Usa & Canada numbers.xlsx', index=False)"
   ]
  },
  {
   "cell_type": "code",
   "execution_count": null,
   "id": "016f0126",
   "metadata": {},
   "outputs": [],
   "source": [
    "mobileNo=input(\"Mobile no. with country code\")\n",
    "mobileNo=phonenumbers.parse(mobileNo)\n",
    "print(timezone.time_zones_for_number(mobileNo))\n",
    "print(carrier.name_for_number(mobileNo,\"en\"))\n",
    "print(geocoder.description_for_number(mobileNo,\"en\"))\n",
    "print(\"Valid Mobile Number:\",phonenumbers.is_valid_number(mobileNo))\n",
    "print(\"Checking possibility of Number:\",phonenumbers.is_possible_number(mobileNo))"
   ]
  }
 ],
 "metadata": {
  "kernelspec": {
   "display_name": "Python 3 (ipykernel)",
   "language": "python",
   "name": "python3"
  },
  "language_info": {
   "codemirror_mode": {
    "name": "ipython",
    "version": 3
   },
   "file_extension": ".py",
   "mimetype": "text/x-python",
   "name": "python",
   "nbconvert_exporter": "python",
   "pygments_lexer": "ipython3",
   "version": "3.10.9"
  }
 },
 "nbformat": 4,
 "nbformat_minor": 5
}
